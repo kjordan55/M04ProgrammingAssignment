{
 "cells": [
  {
   "cell_type": "code",
   "execution_count": null,
   "id": "57eb216a",
   "metadata": {},
   "outputs": [],
   "source": [
    "# zoo.py\n",
    "def hours():\n",
    "    print(\"Open 9-5 daily\")\n",
    "\n",
    "# In the interactive interpreter\n",
    "import zoo\n",
    "zoo.hours()"
   ]
  },
  {
   "cell_type": "code",
   "execution_count": null,
   "id": "1a90bc23",
   "metadata": {},
   "outputs": [],
   "source": [
    "# In the interactive interpreter\n",
    "import zoo as menagerie\n",
    "menagerie.hours()"
   ]
  },
  {
   "cell_type": "code",
   "execution_count": null,
   "id": "bf43cb0d",
   "metadata": {},
   "outputs": [],
   "source": [
    "# SQLAlchemy code to connect to the sqlite3 database \"books.db\" and select title column in alphabetical order\n",
    "\n",
    "from sqlalchemy import create_engine, MetaData, Table\n",
    "from sqlalchemy.orm import sessionmaker\n",
    "\n",
    "engine = create_engine('sqlite:///books.db')\n",
    "conn = engine.connect()\n",
    "metadata = MetaData()\n",
    "book = Table('book', metadata, autoload=True, autoload_with=engine)\n",
    "\n",
    "Session = sessionmaker(bind=engine)\n",
    "session = Session()\n",
    "\n",
    "query = session.query(book.columns.title).order_by(book.columns.title)\n",
    "\n",
    "for title in query:\n",
    "    print(title)\n",
    "\n",
    "session.close()"
   ]
  }
 ],
 "metadata": {
  "kernelspec": {
   "display_name": "Python 3 (ipykernel)",
   "language": "python",
   "name": "python3"
  },
  "language_info": {
   "codemirror_mode": {
    "name": "ipython",
    "version": 3
   },
   "file_extension": ".py",
   "mimetype": "text/x-python",
   "name": "python",
   "nbconvert_exporter": "python",
   "pygments_lexer": "ipython3",
   "version": "3.9.13"
  }
 },
 "nbformat": 4,
 "nbformat_minor": 5
}
